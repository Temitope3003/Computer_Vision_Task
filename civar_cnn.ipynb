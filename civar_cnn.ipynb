{
 "cells": [
  {
   "cell_type": "code",
   "execution_count": 10,
   "metadata": {},
   "outputs": [],
   "source": [
    "import keras\n",
    "from keras.datasets import cifar10\n",
    "from keras.layers import Dense, Conv2D, MaxPooling2D, Flatten, AveragePooling2D, Dropout, Input\n",
    "from keras.models import Model\n",
    "from keras.optimizers import Adam\n",
    "from keras.callbacks import LearningRateScheduler, ModelCheckpoint\n",
    "import os\n"
   ]
  },
  {
   "cell_type": "code",
   "execution_count": 2,
   "metadata": {},
   "outputs": [],
   "source": [
    "(train_x, train_y), (test_x, test_y) = cifar10.load_data()"
   ]
  },
  {
   "cell_type": "code",
   "execution_count": 3,
   "metadata": {},
   "outputs": [
    {
     "data": {
      "text/plain": [
       "((50000, 32, 32, 3), (50000, 1), (10000, 32, 32, 3), (10000, 1))"
      ]
     },
     "execution_count": 3,
     "metadata": {},
     "output_type": "execute_result"
    }
   ],
   "source": [
    "train_x.shape, train_y.shape, test_x.shape, test_y.shape"
   ]
  },
  {
   "cell_type": "code",
   "execution_count": 4,
   "metadata": {},
   "outputs": [],
   "source": [
    "#normalize the data\n",
    "train_x = train_x.astype('float32')/255\n",
    "test_x = test_x.astype('float32')/255"
   ]
  },
  {
   "cell_type": "code",
   "execution_count": 5,
   "metadata": {},
   "outputs": [
    {
     "data": {
      "text/plain": [
       "(10000, 1)"
      ]
     },
     "execution_count": 5,
     "metadata": {},
     "output_type": "execute_result"
    }
   ],
   "source": [
    "test_y.shape"
   ]
  },
  {
   "cell_type": "code",
   "execution_count": 6,
   "metadata": {},
   "outputs": [],
   "source": [
    "#encode the labels to vectors\n",
    "train_y = keras.utils.to_categorical(train_y, 10)\n",
    "test_y = keras.utils.to_categorical(test_y, 10)"
   ]
  },
  {
   "cell_type": "code",
   "execution_count": 22,
   "metadata": {},
   "outputs": [],
   "source": [
    "#define the model\n",
    "def MiniModel(input_shape):\n",
    "  images = Input(input_shape)\n",
    "\n",
    "\n",
    "  net = Conv2D(filters = 64, kernel_size = [3,3], strides = [1,1], padding = 'same', activation = 'relu')(images)\n",
    "  net = Conv2D(filters =  64, kernel_size = [3,3], strides = [1,1], padding = 'same', activation = 'relu')(net)\n",
    "  net = Conv2D(filters =  64, kernel_size = [3,3], strides = [1,1], padding = 'same', activation= 'relu')(net)\n",
    "  net = MaxPooling2D(pool_size= (2,2))(net)\n",
    "  net = Conv2D(filters = 128, kernel_size = [3,3], strides = [1,1], padding = 'same', activation = 'relu')(net)\n",
    "  net = Conv2D(filters = 128, kernel_size = [3,3], strides = [1,1], padding = 'same', activation = 'relu')(net)\n",
    "  net = Conv2D(filters = 128, kernel_size = [3,3], strides = [1,1], padding = 'same', activation = 'relu')(net)\n",
    "  net = MaxPooling2D(pool_size= (2,2))(net)\n",
    "  net = Conv2D(filters = 256, kernel_size = [3,3], strides = [1,1], padding = 'same', activation = 'relu')(net)\n",
    "  net = Conv2D(filters = 256, kernel_size = [3,3], strides = [1,1], padding = 'same', activation = 'relu')(net)\n",
    "  net = Conv2D(filters = 256, kernel_size = [3,3], strides = [1,1], padding = 'same', activation = 'relu')(net)\n",
    "  net = Dropout(0.25)(net)\n",
    "  net = AveragePooling2D(pool_size=(8,8))(net)\n",
    "  net = Flatten()(net)\n",
    "  net = Dense(units = 10, activation = 'softmax')(net)\n",
    "\n",
    "  model = Model(inputs = images, outputs = net)\n",
    "\n",
    "  return model\n"
   ]
  },
  {
   "cell_type": "code",
   "execution_count": 23,
   "metadata": {},
   "outputs": [],
   "source": [
    "input_shape = (32,32,3)\n",
    "model = MiniModel(input_shape)"
   ]
  },
  {
   "cell_type": "code",
   "execution_count": 24,
   "metadata": {},
   "outputs": [
    {
     "name": "stdout",
     "output_type": "stream",
     "text": [
      "Model: \"model_1\"\n",
      "_________________________________________________________________\n",
      " Layer (type)                Output Shape              Param #   \n",
      "=================================================================\n",
      " input_2 (InputLayer)        [(None, 32, 32, 3)]       0         \n",
      "                                                                 \n",
      " conv2d_9 (Conv2D)           (None, 32, 32, 64)        1792      \n",
      "                                                                 \n",
      " conv2d_10 (Conv2D)          (None, 32, 32, 64)        36928     \n",
      "                                                                 \n",
      " conv2d_11 (Conv2D)          (None, 32, 32, 64)        36928     \n",
      "                                                                 \n",
      " max_pooling2d_2 (MaxPoolin  (None, 16, 16, 64)        0         \n",
      " g2D)                                                            \n",
      "                                                                 \n",
      " conv2d_12 (Conv2D)          (None, 16, 16, 128)       73856     \n",
      "                                                                 \n",
      " conv2d_13 (Conv2D)          (None, 16, 16, 128)       147584    \n",
      "                                                                 \n",
      " conv2d_14 (Conv2D)          (None, 16, 16, 128)       147584    \n",
      "                                                                 \n",
      " max_pooling2d_3 (MaxPoolin  (None, 8, 8, 128)         0         \n",
      " g2D)                                                            \n",
      "                                                                 \n",
      " conv2d_15 (Conv2D)          (None, 8, 8, 256)         295168    \n",
      "                                                                 \n",
      " conv2d_16 (Conv2D)          (None, 8, 8, 256)         590080    \n",
      "                                                                 \n",
      " conv2d_17 (Conv2D)          (None, 8, 8, 256)         590080    \n",
      "                                                                 \n",
      " dropout_1 (Dropout)         (None, 8, 8, 256)         0         \n",
      "                                                                 \n",
      " average_pooling2d_1 (Avera  (None, 1, 1, 256)         0         \n",
      " gePooling2D)                                                    \n",
      "                                                                 \n",
      " flatten_1 (Flatten)         (None, 256)               0         \n",
      "                                                                 \n",
      " dense_1 (Dense)             (None, 10)                2570      \n",
      "                                                                 \n",
      "=================================================================\n",
      "Total params: 1922570 (7.33 MB)\n",
      "Trainable params: 1922570 (7.33 MB)\n",
      "Non-trainable params: 0 (0.00 Byte)\n",
      "_________________________________________________________________\n"
     ]
    }
   ],
   "source": [
    "model.summary()"
   ]
  },
  {
   "cell_type": "code",
   "execution_count": 25,
   "metadata": {},
   "outputs": [],
   "source": [
    "#the learning schedule\n",
    "def lr_schedule(epoch):\n",
    "  lr = 0.01\n",
    "\n",
    "  if epoch > 15:\n",
    "    lr = lr/100\n",
    "\n",
    "  elif epoch >10:\n",
    "    lr = lr/ 10\n",
    "\n",
    "  elif epoch > 5:\n",
    "    lr = lr/ 5\n",
    "\n",
    "  print('Learning Rate: ', lr)\n",
    "\n",
    "  return lr"
   ]
  },
  {
   "cell_type": "code",
   "execution_count": 26,
   "metadata": {},
   "outputs": [],
   "source": [
    "#pass the scheduler function into the Learning Rate Schedule\n",
    "\n",
    "lr_scheduler = LearningRateScheduler(lr_schedule)"
   ]
  },
  {
   "cell_type": "code",
   "execution_count": 27,
   "metadata": {},
   "outputs": [],
   "source": [
    "#directory to create models\n",
    "save_directory = os.path.join(os.getcwd(), 'cifar10savedmodels')\n",
    "\n",
    "#name of model files\n",
    "model_name = 'cifar10model.{epoch:03d}.h5'\n",
    "\n",
    "#create directory if it doesn't exist\n",
    "if not os.path.isdir(save_directory):\n",
    "  os.makedirs(save_directory)\n",
    "\n",
    "\n",
    "#join the directory with the model file\n",
    "modelpath = os.path.join(save_directory, model_name)"
   ]
  },
  {
   "cell_type": "code",
   "execution_count": 28,
   "metadata": {},
   "outputs": [
    {
     "name": "stdout",
     "output_type": "stream",
     "text": [
      "WARNING:tensorflow:`period` argument is deprecated. Please use `save_freq` to specify the frequency in number of batches seen.\n"
     ]
    }
   ],
   "source": [
    "checkpoint = ModelCheckpoint(filepath= modelpath,\n",
    "                             monitor= 'val_acc',\n",
    "                             verbose= 1,\n",
    "                             save_best_only= True,\n",
    "                             period = 1)"
   ]
  },
  {
   "cell_type": "code",
   "execution_count": 29,
   "metadata": {},
   "outputs": [
    {
     "name": "stdout",
     "output_type": "stream",
     "text": [
      "Learning Rate:  0.01\n"
     ]
    }
   ],
   "source": [
    "#specify the training component\n",
    "model.compile(optimizer= Adam(lr_schedule(0)), loss = 'categorical_crossentropy', metrics = ['accuracy'])"
   ]
  },
  {
   "cell_type": "code",
   "execution_count": 30,
   "metadata": {},
   "outputs": [],
   "source": [
    "model.fit(train_x, train_y, batch_size = 128, epochs= 20, verbose = 1, validation_split= 0.1, callbacks= [checkpoint, lr_scheduler])"
   ]
  },
  {
   "cell_type": "code",
   "execution_count": 21,
   "metadata": {},
   "outputs": [
    {
     "name": "stdout",
     "output_type": "stream",
     "text": [
      "79/79 [==============================] - 86s 1s/step - loss: 1.1700 - accuracy: 0.5875\n",
      "Accuracy:  0.5874999761581421\n"
     ]
    }
   ],
   "source": [
    "#Evaluate the accuracy of the test dataset\n",
    "accuracy = model.evaluate(x=test_x,y=test_y,batch_size=128)\n",
    "print(\"Accuracy: \",accuracy[1])"
   ]
  },
  {
   "cell_type": "code",
   "execution_count": null,
   "metadata": {},
   "outputs": [],
   "source": []
  }
 ],
 "metadata": {
  "kernelspec": {
   "display_name": "comp_vision",
   "language": "python",
   "name": "python3"
  },
  "language_info": {
   "codemirror_mode": {
    "name": "ipython",
    "version": 3
   },
   "file_extension": ".py",
   "mimetype": "text/x-python",
   "name": "python",
   "nbconvert_exporter": "python",
   "pygments_lexer": "ipython3",
   "version": "3.11.4"
  }
 },
 "nbformat": 4,
 "nbformat_minor": 2
}

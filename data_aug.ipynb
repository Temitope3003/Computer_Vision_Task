{
 "cells": [
  {
   "cell_type": "code",
   "execution_count": 1,
   "metadata": {},
   "outputs": [],
   "source": [
    "#import libraries\n",
    "import keras\n",
    "from keras.datasets import cifar10\n",
    "from keras.layers import Dense, Input, Conv2D, MaxPooling2D, Flatten, Dropout, BatchNormalization, Activation, AveragePooling2D\n",
    "from keras.models import Model\n",
    "from keras.optimizers import Adam\n",
    "from keras.callbacks import LearningRateScheduler, ModelCheckpoint\n",
    "from math import ceil\n",
    "import os\n",
    "from keras.preprocessing.image import ImageDataGenerator"
   ]
  },
  {
   "cell_type": "code",
   "execution_count": 2,
   "metadata": {},
   "outputs": [],
   "source": [
    "#load the mnist dataset\n",
    "(train_x, train_y), (test_x, test_y) = cifar10.load_data()"
   ]
  },
  {
   "cell_type": "code",
   "execution_count": 3,
   "metadata": {},
   "outputs": [],
   "source": [
    "#normalize the data\n",
    "train_x = train_x.astype('float32')/255\n",
    "train_y = train_y.astype('float32')/255\n"
   ]
  },
  {
   "cell_type": "code",
   "execution_count": 4,
   "metadata": {},
   "outputs": [
    {
     "data": {
      "text/plain": [
       "((50000, 1), (50000, 32, 32, 3), (10000, 32, 32, 3), (10000, 1))"
      ]
     },
     "execution_count": 4,
     "metadata": {},
     "output_type": "execute_result"
    }
   ],
   "source": [
    "train_y.shape, train_x.shape, test_x.shape, test_y.shape"
   ]
  },
  {
   "cell_type": "code",
   "execution_count": 5,
   "metadata": {},
   "outputs": [],
   "source": [
    "#subtract the mean image  from both the train and test set\n",
    "train_x =  train_x - train_x.mean()\n",
    "test_x = test_x - test_x.mean()"
   ]
  },
  {
   "cell_type": "code",
   "execution_count": 6,
   "metadata": {},
   "outputs": [],
   "source": [
    "#divide by the standard deviation\n",
    "train_x = train_x/train_x.std(axis= 0)\n",
    "test_x = test_x/ test_x.std(axis = 0)"
   ]
  },
  {
   "cell_type": "code",
   "execution_count": 7,
   "metadata": {},
   "outputs": [
    {
     "data": {
      "text/plain": [
       "((50000, 32, 32, 3), (50000, 1), (10000, 32, 32, 3), (10000, 1))"
      ]
     },
     "execution_count": 7,
     "metadata": {},
     "output_type": "execute_result"
    }
   ],
   "source": [
    "train_x.shape, train_y.shape, test_x.shape, test_y.shape"
   ]
  },
  {
   "cell_type": "code",
   "execution_count": 8,
   "metadata": {},
   "outputs": [],
   "source": [
    "#encode the labels to vectors\n",
    "train_y = keras.utils.to_categorical(train_y, 10)\n",
    "test_y = keras.utils.to_categorical(test_y, 10)"
   ]
  },
  {
   "cell_type": "code",
   "execution_count": 9,
   "metadata": {},
   "outputs": [],
   "source": [
    "#define the common unit\n",
    "def Unit(x, filters):\n",
    "  out = BatchNormalization()(x)\n",
    "  out = Activation('relu')(out)\n",
    "  out = Conv2D(filters= filters, kernel_size= [3,3], strides= [1,1], padding= 'same')(out)\n",
    "\n",
    "  return out"
   ]
  },
  {
   "cell_type": "code",
   "execution_count": 10,
   "metadata": {},
   "outputs": [],
   "source": [
    "#define the model\n",
    "def MiniModel(input_shape):\n",
    "  images = Input(input_shape)\n",
    "\n",
    "  net = Unit(images, 64)\n",
    "  net = Unit(net, 64)\n",
    "  net = Unit(net, 64)\n",
    "  net = MaxPooling2D(pool_size= (2,2))(net)\n",
    "\n",
    "\n",
    "  net = Unit(net, 128)\n",
    "  net = Unit(net, 128)\n",
    "  net = Unit(net, 128)\n",
    "  net = MaxPooling2D(pool_size= (2,2)) (net)\n",
    "\n",
    "  net = Unit(net, 256)\n",
    "  net = Unit(net, 256)\n",
    "  net = Unit(net, 256)\n",
    "\n",
    "  net = Dropout(0.25)(net)\n",
    "  net = AveragePooling2D(pool_size= (2,2))(net)\n",
    "  net = Flatten()(net)\n",
    "  net = Dense(units= 10, activation= 'softmax')(net)\n",
    "\n",
    "  model = Model(inputs =  images, outputs = net)\n",
    "\n",
    "  return model\n",
    "\n",
    "\n",
    "input_shape = (32,32,3)\n",
    "model = MiniModel(input_shape)"
   ]
  },
  {
   "cell_type": "code",
   "execution_count": 11,
   "metadata": {},
   "outputs": [
    {
     "name": "stdout",
     "output_type": "stream",
     "text": [
      "Model: \"model\"\n",
      "_________________________________________________________________\n",
      " Layer (type)                Output Shape              Param #   \n",
      "=================================================================\n",
      " input_1 (InputLayer)        [(None, 32, 32, 3)]       0         \n",
      "                                                                 \n",
      " batch_normalization (Batch  (None, 32, 32, 3)         12        \n",
      " Normalization)                                                  \n",
      "                                                                 \n",
      " activation (Activation)     (None, 32, 32, 3)         0         \n",
      "                                                                 \n",
      " conv2d (Conv2D)             (None, 32, 32, 64)        1792      \n",
      "                                                                 \n",
      " batch_normalization_1 (Bat  (None, 32, 32, 64)        256       \n",
      " chNormalization)                                                \n",
      "                                                                 \n",
      " activation_1 (Activation)   (None, 32, 32, 64)        0         \n",
      "                                                                 \n",
      " conv2d_1 (Conv2D)           (None, 32, 32, 64)        36928     \n",
      "                                                                 \n",
      " batch_normalization_2 (Bat  (None, 32, 32, 64)        256       \n",
      " chNormalization)                                                \n",
      "                                                                 \n",
      " activation_2 (Activation)   (None, 32, 32, 64)        0         \n",
      "                                                                 \n",
      " conv2d_2 (Conv2D)           (None, 32, 32, 64)        36928     \n",
      "                                                                 \n",
      " max_pooling2d (MaxPooling2  (None, 16, 16, 64)        0         \n",
      " D)                                                              \n",
      "                                                                 \n",
      " batch_normalization_3 (Bat  (None, 16, 16, 64)        256       \n",
      " chNormalization)                                                \n",
      "                                                                 \n",
      " activation_3 (Activation)   (None, 16, 16, 64)        0         \n",
      "                                                                 \n",
      " conv2d_3 (Conv2D)           (None, 16, 16, 128)       73856     \n",
      "                                                                 \n",
      " batch_normalization_4 (Bat  (None, 16, 16, 128)       512       \n",
      " chNormalization)                                                \n",
      "                                                                 \n",
      " activation_4 (Activation)   (None, 16, 16, 128)       0         \n",
      "                                                                 \n",
      " conv2d_4 (Conv2D)           (None, 16, 16, 128)       147584    \n",
      "                                                                 \n",
      " batch_normalization_5 (Bat  (None, 16, 16, 128)       512       \n",
      " chNormalization)                                                \n",
      "                                                                 \n",
      " activation_5 (Activation)   (None, 16, 16, 128)       0         \n",
      "                                                                 \n",
      " conv2d_5 (Conv2D)           (None, 16, 16, 128)       147584    \n",
      "                                                                 \n",
      " max_pooling2d_1 (MaxPoolin  (None, 8, 8, 128)         0         \n",
      " g2D)                                                            \n",
      "                                                                 \n",
      " batch_normalization_6 (Bat  (None, 8, 8, 128)         512       \n",
      " chNormalization)                                                \n",
      "                                                                 \n",
      " activation_6 (Activation)   (None, 8, 8, 128)         0         \n",
      "                                                                 \n",
      " conv2d_6 (Conv2D)           (None, 8, 8, 256)         295168    \n",
      "                                                                 \n",
      " batch_normalization_7 (Bat  (None, 8, 8, 256)         1024      \n",
      " chNormalization)                                                \n",
      "                                                                 \n",
      " activation_7 (Activation)   (None, 8, 8, 256)         0         \n",
      "                                                                 \n",
      " conv2d_7 (Conv2D)           (None, 8, 8, 256)         590080    \n",
      "                                                                 \n",
      " batch_normalization_8 (Bat  (None, 8, 8, 256)         1024      \n",
      " chNormalization)                                                \n",
      "                                                                 \n",
      " activation_8 (Activation)   (None, 8, 8, 256)         0         \n",
      "                                                                 \n",
      " conv2d_8 (Conv2D)           (None, 8, 8, 256)         590080    \n",
      "                                                                 \n",
      " dropout (Dropout)           (None, 8, 8, 256)         0         \n",
      "                                                                 \n",
      " average_pooling2d (Average  (None, 4, 4, 256)         0         \n",
      " Pooling2D)                                                      \n",
      "                                                                 \n",
      " flatten (Flatten)           (None, 4096)              0         \n",
      "                                                                 \n",
      " dense (Dense)               (None, 10)                40970     \n",
      "                                                                 \n",
      "=================================================================\n",
      "Total params: 1965334 (7.50 MB)\n",
      "Trainable params: 1963152 (7.49 MB)\n",
      "Non-trainable params: 2182 (8.52 KB)\n",
      "_________________________________________________________________\n"
     ]
    }
   ],
   "source": [
    "model.summary()"
   ]
  },
  {
   "cell_type": "code",
   "execution_count": 12,
   "metadata": {},
   "outputs": [],
   "source": [
    "def lr_schedule(epoch):\n",
    "  lr = 0.001\n",
    "\n",
    "  if epoch > 15:\n",
    "      lr = lr/100\n",
    "  elif lr> 10:\n",
    "      lr = lr/10\n",
    "\n",
    "  elif epoch > 5:\n",
    "      lr = lr/5\n",
    "\n",
    "  print ('Learning Rate: ', lr)\n",
    "\n",
    "  return lr"
   ]
  },
  {
   "cell_type": "code",
   "execution_count": 13,
   "metadata": {},
   "outputs": [],
   "source": [
    "#pass the scheduler function to the Learning Rate Scheduler Class\n",
    "lr_scheduler = LearningRateScheduler(lr_schedule)"
   ]
  },
  {
   "cell_type": "code",
   "execution_count": 14,
   "metadata": {},
   "outputs": [],
   "source": [
    "#directory to create the model\n",
    "save_directory = os.path.join(os.getcwd(), 'cifar10savedmodels')\n",
    "#name of model files\n",
    "model_name = 'cifar10model.{epoch:03d}.h5'\n",
    "\n",
    "#create Directory if it doesn't exist\n",
    "if not os.path.isdir(save_directory):\n",
    "  os.makedirs(save_directory)\n",
    "\n",
    "#join the directory with the model file\n",
    "modelpath = os.path.join(save_directory, model_name)"
   ]
  },
  {
   "cell_type": "code",
   "execution_count": 15,
   "metadata": {},
   "outputs": [
    {
     "name": "stdout",
     "output_type": "stream",
     "text": [
      "WARNING:tensorflow:`period` argument is deprecated. Please use `save_freq` to specify the frequency in number of batches seen.\n"
     ]
    }
   ],
   "source": [
    "checkpoint = ModelCheckpoint(filepath= modelpath,\n",
    "                             monitor= 'val_acc',\n",
    "                             verbose= 1,\n",
    "                             save_best_only= True,\n",
    "                             period = 1)"
   ]
  },
  {
   "cell_type": "code",
   "execution_count": 16,
   "metadata": {},
   "outputs": [
    {
     "name": "stdout",
     "output_type": "stream",
     "text": [
      "Learning Rate:  0.001\n"
     ]
    }
   ],
   "source": [
    "#specify the training components\n",
    "model.compile(optimizer= Adam(lr_schedule(0)), loss = 'categorical_crossentropy', metrics = ['Accuracy'])"
   ]
  },
  {
   "cell_type": "code",
   "execution_count": 17,
   "metadata": {},
   "outputs": [],
   "source": [
    "datagen = ImageDataGenerator(rotation_range= 10,\n",
    "                             width_shift_range= 5. /32,\n",
    "                             height_shift_range= 5. / 32,\n",
    "                             horizontal_flip= True)"
   ]
  },
  {
   "cell_type": "code",
   "execution_count": 18,
   "metadata": {},
   "outputs": [],
   "source": [
    "# Compute quantities required for featurewise normalization\n",
    "# (std, mean, and principal components if ZCA whitening is applied).\n",
    "datagen.fit(train_x)"
   ]
  },
  {
   "cell_type": "code",
   "execution_count": 19,
   "metadata": {},
   "outputs": [],
   "source": [
    "epochs = 20\n",
    "\n",
    "steps_per_epoch = ceil(50000/128)"
   ]
  },
  {
   "cell_type": "code",
   "execution_count": 20,
   "metadata": {},
   "outputs": [
    {
     "name": "stderr",
     "output_type": "stream",
     "text": [
      "C:\\Users\\PC\\AppData\\Local\\Temp\\ipykernel_15460\\3115652652.py:2: UserWarning: `Model.fit_generator` is deprecated and will be removed in a future version. Please use `Model.fit`, which supports generators.\n",
      "  model.fit_generator(datagen.flow(train_x, train_y, batch_size= 128), validation_data= [test_x, test_y], epochs= epochs, steps_per_epoch= steps_per_epoch, verbose = 1, workers= 4, callbacks= [checkpoint, lr_scheduler])\n"
     ]
    },
    {
     "name": "stdout",
     "output_type": "stream",
     "text": [
      "Learning Rate:  0.001\n",
      "Epoch 1/20\n",
      "391/391 [==============================] - ETA: 0s - loss: 0.0071 - Accuracy: 0.9977WARNING:tensorflow:Can save best model only with val_acc available, skipping.\n",
      "391/391 [==============================] - 2126s 5s/step - loss: 0.0071 - Accuracy: 0.9977 - val_loss: 45.3936 - val_Accuracy: 0.1000 - lr: 0.0010\n",
      "Learning Rate:  0.001\n",
      "Epoch 2/20\n",
      "391/391 [==============================] - ETA: 0s - loss: 0.0000e+00 - Accuracy: 1.0000WARNING:tensorflow:Can save best model only with val_acc available, skipping.\n",
      "391/391 [==============================] - 2104s 5s/step - loss: 0.0000e+00 - Accuracy: 1.0000 - val_loss: 96.8324 - val_Accuracy: 0.1000 - lr: 0.0010\n",
      "Learning Rate:  0.001\n",
      "Epoch 3/20\n",
      "101/391 [======>.......................] - ETA: 23:33 - loss: 0.0000e+00 - Accuracy: 1.0000"
     ]
    }
   ],
   "source": [
    "#fit the model on the batches generated by datagen.flow()\n",
    "model.fit_generator(datagen.flow(train_x, train_y, batch_size= 128), validation_data= [test_x, test_y], epochs= epochs, steps_per_epoch= steps_per_epoch, verbose = 1, workers= 4, callbacks= [checkpoint, lr_scheduler])"
   ]
  },
  {
   "cell_type": "code",
   "execution_count": null,
   "metadata": {},
   "outputs": [],
   "source": [
    "#Eevaluate the accuracy of the test dataset\n",
    "accuracy = model.evaluate(x = test_x, y = test_y, batch_size = 128)"
   ]
  },
  {
   "cell_type": "code",
   "execution_count": null,
   "metadata": {},
   "outputs": [],
   "source": []
  }
 ],
 "metadata": {
  "kernelspec": {
   "display_name": "comp_vision",
   "language": "python",
   "name": "python3"
  },
  "language_info": {
   "codemirror_mode": {
    "name": "ipython",
    "version": 3
   },
   "file_extension": ".py",
   "mimetype": "text/x-python",
   "name": "python",
   "nbconvert_exporter": "python",
   "pygments_lexer": "ipython3",
   "version": "3.11.4"
  }
 },
 "nbformat": 4,
 "nbformat_minor": 2
}
